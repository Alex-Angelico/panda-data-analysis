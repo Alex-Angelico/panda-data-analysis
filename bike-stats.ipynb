{
 "metadata": {
  "language_info": {
   "codemirror_mode": {
    "name": "ipython",
    "version": 3
   },
   "file_extension": ".py",
   "mimetype": "text/x-python",
   "name": "python",
   "nbconvert_exporter": "python",
   "pygments_lexer": "ipython3",
   "version": "3.9.0-final"
  },
  "orig_nbformat": 2,
  "kernelspec": {
   "name": "python3",
   "display_name": "Python 3",
   "language": "python"
  }
 },
 "nbformat": 4,
 "nbformat_minor": 2,
 "cells": [
  {
   "source": [
    "# Data Analysis with Pandas\n",
    "\n",
    "## Dataset: Cycle Share\n",
    "\n",
    "### Bicycle Trip Data from Seattle's Cycle Share System\n",
    "\n",
    "#### Alex Angelico\n",
    "#### 2021-19-01"
   ],
   "cell_type": "markdown",
   "metadata": {}
  },
  {
   "cell_type": "code",
   "execution_count": 128,
   "metadata": {},
   "outputs": [],
   "source": [
    "import pandas as pd\n",
    "import numpy as np\n",
    "import calendar"
   ]
  },
  {
   "cell_type": "code",
   "execution_count": 4,
   "metadata": {},
   "outputs": [],
   "source": [
    "trips = pd.read_csv('trip.csv')\n",
    "weather = pd.read_csv('weather.csv')\n",
    "station = pd.read_csv('station.csv')"
   ]
  },
  {
   "cell_type": "code",
   "execution_count": 5,
   "metadata": {},
   "outputs": [
    {
     "output_type": "stream",
     "name": "stdout",
     "text": [
      "<class 'pandas.core.frame.DataFrame'>\nRangeIndex: 286858 entries, 0 to 286857\nData columns (total 12 columns):\n #   Column             Non-Null Count   Dtype  \n---  ------             --------------   -----  \n 0   trip_id            286858 non-null  int64  \n 1   starttime          286858 non-null  object \n 2   stoptime           286858 non-null  object \n 3   bikeid             286858 non-null  object \n 4   tripduration       286858 non-null  float64\n 5   from_station_name  286858 non-null  object \n 6   to_station_name    286858 non-null  object \n 7   from_station_id    286858 non-null  object \n 8   to_station_id      286858 non-null  object \n 9   usertype           286857 non-null  object \n 10  gender             181557 non-null  object \n 11  birthyear          181553 non-null  float64\ndtypes: float64(2), int64(1), object(9)\nmemory usage: 26.3+ MB\n<class 'pandas.core.frame.DataFrame'>\nRangeIndex: 689 entries, 0 to 688\nData columns (total 21 columns):\n #   Column                      Non-Null Count  Dtype  \n---  ------                      --------------  -----  \n 0   Date                        689 non-null    object \n 1   Max_Temperature_F           689 non-null    int64  \n 2   Mean_Temperature_F          688 non-null    float64\n 3   Min_TemperatureF            689 non-null    int64  \n 4   Max_Dew_Point_F             689 non-null    int64  \n 5   MeanDew_Point_F             689 non-null    int64  \n 6   Min_Dewpoint_F              689 non-null    int64  \n 7   Max_Humidity                689 non-null    int64  \n 8   Mean_Humidity               689 non-null    int64  \n 9   Min_Humidity                689 non-null    int64  \n 10  Max_Sea_Level_Pressure_In   689 non-null    float64\n 11  Mean_Sea_Level_Pressure_In  689 non-null    float64\n 12  Min_Sea_Level_Pressure_In   689 non-null    float64\n 13  Max_Visibility_Miles        689 non-null    int64  \n 14  Mean_Visibility_Miles       689 non-null    int64  \n 15  Min_Visibility_Miles        689 non-null    int64  \n 16  Max_Wind_Speed_MPH          689 non-null    int64  \n 17  Mean_Wind_Speed_MPH         689 non-null    int64  \n 18  Max_Gust_Speed_MPH          504 non-null    object \n 19  Precipitation_In            689 non-null    float64\n 20  Events                      328 non-null    object \ndtypes: float64(5), int64(13), object(3)\nmemory usage: 113.2+ KB\n<class 'pandas.core.frame.DataFrame'>\nRangeIndex: 58 entries, 0 to 57\nData columns (total 9 columns):\n #   Column             Non-Null Count  Dtype  \n---  ------             --------------  -----  \n 0   station_id         58 non-null     object \n 1   name               58 non-null     object \n 2   lat                58 non-null     float64\n 3   long               58 non-null     float64\n 4   install_date       58 non-null     object \n 5   install_dockcount  58 non-null     int64  \n 6   modification_date  17 non-null     object \n 7   current_dockcount  58 non-null     int64  \n 8   decommission_date  4 non-null      object \ndtypes: float64(2), int64(2), object(5)\nmemory usage: 4.2+ KB\n"
     ]
    }
   ],
   "source": [
    "trips.info()\n",
    "weather.info()\n",
    "station.info()"
   ]
  },
  {
   "source": [
    "## Question 1\n",
    "### What is the average trip duration for a borrowed bicycle?"
   ],
   "cell_type": "markdown",
   "metadata": {}
  },
  {
   "cell_type": "code",
   "execution_count": 9,
   "metadata": {},
   "outputs": [
    {
     "output_type": "execute_result",
     "data": {
      "text/plain": [
       "'The average trip duration for a borrowed bicycle is 19 minutes 38 seconds.'"
      ]
     },
     "metadata": {},
     "execution_count": 9
    }
   ],
   "source": [
    "average_trip_duration = str(round(trips['tripduration'].mean()/60, 2)).split('.')\n",
    "average_trip_duration[1] = str(round((60*int(average_trip_duration[1])/100)))\n",
    "f\"The average trip duration for a borrowed bicycle is {average_trip_duration[0]} minutes {average_trip_duration[1]} seconds.\""
   ]
  },
  {
   "source": [
    "## Question 2\n",
    "### What’s the most common age of a bicycle-sharer?"
   ],
   "cell_type": "markdown",
   "metadata": {}
  },
  {
   "cell_type": "code",
   "execution_count": 137,
   "metadata": {},
   "outputs": [
    {
     "output_type": "execute_result",
     "data": {
      "text/plain": [
       "'The most common age of a bicycle-sharer is 34.'"
      ]
     },
     "metadata": {},
     "execution_count": 137
    }
   ],
   "source": [
    "biker_commonest_age = 2021 - int(trips['birthyear'].mode())\n",
    "f\"The most common age of a bicycle-sharer is {biker_commonest_age}.\""
   ]
  },
  {
   "source": [
    "## Question 3\n",
    "### Given all the weather data here, find the average precipitation per month, and the median precipitation."
   ],
   "cell_type": "markdown",
   "metadata": {}
  },
  {
   "cell_type": "code",
   "execution_count": 136,
   "metadata": {},
   "outputs": [
    {
     "output_type": "execute_result",
     "data": {
      "text/plain": [
       "['Jan - mean precipitation: 0.14 inches / median precipitation: 0.02 inches',\n",
       " 'Feb - mean precipitation: 0.17 inches / median precipitation: 0.04 inches',\n",
       " 'Mar - mean precipitation: 0.16 inches / median precipitation: 0.025 inches',\n",
       " 'Apr - mean precipitation: 0.05 inches / median precipitation: 0.0 inches',\n",
       " 'May - mean precipitation: 0.01 inches / median precipitation: 0.0 inches',\n",
       " 'Jun - mean precipitation: 0.03 inches / median precipitation: 0.0 inches',\n",
       " 'Jul - mean precipitation: 0.01 inches / median precipitation: 0.0 inches',\n",
       " 'Aug - mean precipitation: 0.02 inches / median precipitation: 0.0 inches',\n",
       " 'Sep - mean precipitation: 0.04 inches / median precipitation: 0.0 inches',\n",
       " 'Oct - mean precipitation: 0.19 inches / median precipitation: 0.04 inches',\n",
       " 'Nov - mean precipitation: 0.19 inches / median precipitation: 0.035 inches',\n",
       " 'Dec - mean precipitation: 0.24 inches / median precipitation: 0.1 inches']"
      ]
     },
     "metadata": {},
     "execution_count": 136
    }
   ],
   "source": [
    "raw_precipitation = weather[['Date', 'Precipitation_In']]\n",
    "\n",
    "precipitation_data = []\n",
    "for i in range(12):\n",
    "    month_data = [row.Precipitation_In for row in raw_precipitation.iloc if int(row.Date.split('/')[0]) == i+1]\n",
    "    month_data = np.array(month_data)\n",
    "    precipitation_data.append(f'{calendar.month_abbr[i+1]} - mean precipitation: {round(np.mean(month_data), 2)} inches / median precipitation: {np.median(month_data)} inches')\n",
    "\n",
    "precipitation_data"
   ]
  },
  {
   "source": [
    "## Question 4\n",
    "### What’s the average number of bikes at a given bike station?"
   ],
   "cell_type": "markdown",
   "metadata": {}
  },
  {
   "cell_type": "code",
   "execution_count": 10,
   "metadata": {},
   "outputs": [
    {
     "output_type": "execute_result",
     "data": {
      "text/plain": [
       "'The average number of bikes at a given bike station is 17.'"
      ]
     },
     "metadata": {},
     "execution_count": 10
    }
   ],
   "source": [
    "average_station_bikes = round(station['current_dockcount'].mean())\n",
    "f\"The average number of bikes at a given bike station is {average_station_bikes}.\""
   ]
  },
  {
   "source": [
    "## Question 5\n",
    "### When a bike station is modified, is it more likely that it’ll lose bikes or gain bikes? How do you know?"
   ],
   "cell_type": "markdown",
   "metadata": {}
  },
  {
   "cell_type": "code",
   "execution_count": 20,
   "metadata": {},
   "outputs": [
    {
     "output_type": "stream",
     "name": "stdout",
     "text": [
      "When a bike station is modified, it is more likely that it will lose bikes than gain bikes. We know this because the the average count of bikes at all stations at the time of station installaiton is 18, and the average count at all stations after modification is 17.\n"
     ]
    }
   ],
   "source": [
    "installed = round(station['install_dockcount'].mean())\n",
    "modified = round(station['current_dockcount'].mean())\n",
    "\n",
    "if installed < modified:\n",
    "    print(f'When a bike station is modified, it is more likely that it will gain bikes than lose bikes. We know this because the the average count of bikes at all stations at the time of station installaiton is {installed}, and the average count at all stations is {modified} after modification.')\n",
    "else:\n",
    "    print(f'When a bike station is modified, it is more likely that it will lose bikes than gain bikes. We know this because the the average count of bikes at all stations at the time of station installaiton is {installed}, and the average count at all stations after modification is {modified}.')"
   ]
  },
  {
   "source": [
    "## Question 6a\n",
    "### Do members or short-term pass holders take longer average trips on borrowed bikes?"
   ],
   "cell_type": "markdown",
   "metadata": {}
  },
  {
   "cell_type": "code",
   "execution_count": 147,
   "metadata": {},
   "outputs": [
    {
     "output_type": "execute_result",
     "data": {
      "text/plain": [
       "'Short-Term Pass Holders take longer average trips of 36 minutes 2 seconds compared to Members, who take average trips of 9 minutes 55 seconds.'"
      ]
     },
     "metadata": {},
     "execution_count": 147
    }
   ],
   "source": [
    "rider_type_mean_duration = trips.groupby('usertype')['tripduration'].mean().sort_values(ascending=False)\n",
    "\n",
    "rider_type_longer_average_trip_duration = str(round(usertype_mean_duration[0]/60, 2)).split('.')\n",
    "rider_type_longer_average_trip_duration[1] = str(round((60*int(rider_type_longer_average_trip_duration[1])/100)))\n",
    "\n",
    "rider_type_shorter_average_trip_duration = str(round(usertype_mean_duration[1]/60, 2)).split('.')\n",
    "rider_type_shorter_average_trip_duration[1] = str(round((60*int(rider_type_shorter_average_trip_duration[1])/100)))\n",
    "\n",
    "f'{rider_type_mean_duration.index[0]}s take longer average trips of {rider_type_longer_average_trip_duration[0]} minutes {rider_type_longer_average_trip_duration[1]} seconds compared to {rider_type_mean_duration.index[1]}s, who take average trips of {rider_type_shorter_average_trip_duration[0]} minutes {rider_type_shorter_average_trip_duration[1]} seconds.'"
   ]
  },
  {
   "source": [
    "## Question 6b\n",
    "### Which bike station most recently decommissioned, and when?"
   ],
   "cell_type": "markdown",
   "metadata": {}
  },
  {
   "cell_type": "code",
   "execution_count": 159,
   "metadata": {},
   "outputs": [
    {
     "output_type": "execute_result",
     "data": {
      "text/plain": [
       "'The bike station most recently decommissioned was 12th Ave & E Yesler Way on 8/9/2016.'"
      ]
     },
     "metadata": {},
     "execution_count": 159
    }
   ],
   "source": [
    "recentest_decommission = station[['name','decommission_date']].sort_values(by='decommission_date', ascending=False).iloc[0]\n",
    "\n",
    "f'The bike station most recently decommissioned was {recentest_decommission[0]} on {recentest_decommission[1]}.'"
   ]
  },
  {
   "source": [
    "## Question 6c\n",
    "### What was the hottest temperature recorded, and on which date?"
   ],
   "cell_type": "markdown",
   "metadata": {}
  },
  {
   "cell_type": "code",
   "execution_count": 177,
   "metadata": {},
   "outputs": [
    {
     "output_type": "execute_result",
     "data": {
      "text/plain": [
       "'The hottest max temperature recorded was 98F on 7/19/2015.'"
      ]
     },
     "metadata": {},
     "execution_count": 177
    }
   ],
   "source": [
    "hottest_date = weather[['Max_Temperature_F', 'Date']].sort_values(by='Max_Temperature_F', ascending=False).iloc[0]\n",
    "\n",
    "f'The hottest max temperature recorded was {hottest_date[0]}F on {hottest_date[1]}.'"
   ]
  },
  {
   "cell_type": "code",
   "execution_count": 179,
   "metadata": {},
   "outputs": [
    {
     "output_type": "stream",
     "name": "stdout",
     "text": [
      "Success!!!\n"
     ]
    }
   ],
   "source": [
    "def test():\n",
    "\n",
    "    def assert_equal(actual,expected):\n",
    "        assert actual == expected, f\"Expected {expected} but got {actual}\"\n",
    "\n",
    "    assert_equal(average_trip_duration, ['19','38'])\n",
    "    assert_equal(biker_commonest_age, 34)\n",
    "    assert_equal(precipitation_data[0], 'Jan - mean precipitation: 0.14 inches / median precipitation: 0.02 inches')\n",
    "    assert_equal(average_station_bikes, 17)\n",
    "    assert_equal(installed, 18)\n",
    "    assert_equal(rider_type_mean_duration.index[0], 'Short-Term Pass Holder')\n",
    "    assert_equal(recentest_decommission[0], '12th Ave & E Yesler Way')\n",
    "    assert_equal(hottest_date[0], 98)\n",
    "\n",
    "    print(\"Success!!!\")\n",
    "\n",
    "test()"
   ]
  },
  {
   "cell_type": "code",
   "execution_count": null,
   "metadata": {},
   "outputs": [],
   "source": []
  }
 ]
}