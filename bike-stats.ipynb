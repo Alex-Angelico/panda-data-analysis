{
 "metadata": {
  "language_info": {
   "codemirror_mode": {
    "name": "ipython",
    "version": 3
   },
   "file_extension": ".py",
   "mimetype": "text/x-python",
   "name": "python",
   "nbconvert_exporter": "python",
   "pygments_lexer": "ipython3",
   "version": "3.9.0-final"
  },
  "orig_nbformat": 2,
  "kernelspec": {
   "name": "python3",
   "display_name": "Python 3",
   "language": "python"
  }
 },
 "nbformat": 4,
 "nbformat_minor": 2,
 "cells": [
  {
   "source": [
    "# Data Analysis with Pandas\n",
    "\n",
    "## Dataset: Cycle Share\n",
    "\n",
    "### Bicycle Trip Data from Seattle's Cycle Share System\n",
    "\n",
    "#### Alex Angelico\n",
    "#### 2021-19-01"
   ],
   "cell_type": "markdown",
   "metadata": {}
  },
  {
   "cell_type": "code",
   "execution_count": 3,
   "metadata": {},
   "outputs": [],
   "source": [
    "import pandas as pd"
   ]
  },
  {
   "cell_type": "code",
   "execution_count": 4,
   "metadata": {},
   "outputs": [],
   "source": [
    "trips = pd.read_csv('trip.csv')\n",
    "weather = pd.read_csv('weather.csv')\n",
    "station = pd.read_csv('station.csv')"
   ]
  },
  {
   "cell_type": "code",
   "execution_count": 5,
   "metadata": {},
   "outputs": [
    {
     "output_type": "stream",
     "name": "stdout",
     "text": [
      "<class 'pandas.core.frame.DataFrame'>\nRangeIndex: 286858 entries, 0 to 286857\nData columns (total 12 columns):\n #   Column             Non-Null Count   Dtype  \n---  ------             --------------   -----  \n 0   trip_id            286858 non-null  int64  \n 1   starttime          286858 non-null  object \n 2   stoptime           286858 non-null  object \n 3   bikeid             286858 non-null  object \n 4   tripduration       286858 non-null  float64\n 5   from_station_name  286858 non-null  object \n 6   to_station_name    286858 non-null  object \n 7   from_station_id    286858 non-null  object \n 8   to_station_id      286858 non-null  object \n 9   usertype           286857 non-null  object \n 10  gender             181557 non-null  object \n 11  birthyear          181553 non-null  float64\ndtypes: float64(2), int64(1), object(9)\nmemory usage: 26.3+ MB\n<class 'pandas.core.frame.DataFrame'>\nRangeIndex: 689 entries, 0 to 688\nData columns (total 21 columns):\n #   Column                      Non-Null Count  Dtype  \n---  ------                      --------------  -----  \n 0   Date                        689 non-null    object \n 1   Max_Temperature_F           689 non-null    int64  \n 2   Mean_Temperature_F          688 non-null    float64\n 3   Min_TemperatureF            689 non-null    int64  \n 4   Max_Dew_Point_F             689 non-null    int64  \n 5   MeanDew_Point_F             689 non-null    int64  \n 6   Min_Dewpoint_F              689 non-null    int64  \n 7   Max_Humidity                689 non-null    int64  \n 8   Mean_Humidity               689 non-null    int64  \n 9   Min_Humidity                689 non-null    int64  \n 10  Max_Sea_Level_Pressure_In   689 non-null    float64\n 11  Mean_Sea_Level_Pressure_In  689 non-null    float64\n 12  Min_Sea_Level_Pressure_In   689 non-null    float64\n 13  Max_Visibility_Miles        689 non-null    int64  \n 14  Mean_Visibility_Miles       689 non-null    int64  \n 15  Min_Visibility_Miles        689 non-null    int64  \n 16  Max_Wind_Speed_MPH          689 non-null    int64  \n 17  Mean_Wind_Speed_MPH         689 non-null    int64  \n 18  Max_Gust_Speed_MPH          504 non-null    object \n 19  Precipitation_In            689 non-null    float64\n 20  Events                      328 non-null    object \ndtypes: float64(5), int64(13), object(3)\nmemory usage: 113.2+ KB\n<class 'pandas.core.frame.DataFrame'>\nRangeIndex: 58 entries, 0 to 57\nData columns (total 9 columns):\n #   Column             Non-Null Count  Dtype  \n---  ------             --------------  -----  \n 0   station_id         58 non-null     object \n 1   name               58 non-null     object \n 2   lat                58 non-null     float64\n 3   long               58 non-null     float64\n 4   install_date       58 non-null     object \n 5   install_dockcount  58 non-null     int64  \n 6   modification_date  17 non-null     object \n 7   current_dockcount  58 non-null     int64  \n 8   decommission_date  4 non-null      object \ndtypes: float64(2), int64(2), object(5)\nmemory usage: 4.2+ KB\n"
     ]
    }
   ],
   "source": [
    "trips.info()\n",
    "weather.info()\n",
    "station.info()"
   ]
  },
  {
   "source": [
    "## Question 1\n",
    "### What is the average trip duration for a borrowed bicycle?"
   ],
   "cell_type": "markdown",
   "metadata": {}
  },
  {
   "cell_type": "code",
   "execution_count": 47,
   "metadata": {},
   "outputs": [
    {
     "output_type": "execute_result",
     "data": {
      "text/plain": [
       "'The average trip duration for a borrowed bicycle is 19 minutes 38 seconds.'"
      ]
     },
     "metadata": {},
     "execution_count": 47
    }
   ],
   "source": [
    "x = round(trips['tripduration'].mean()/60, 2)\n",
    "x = str(x).split('.')\n",
    "x[1] = str(round((60*int(x[1])/100)))\n",
    "f\"The average trip duration for a borrowed bicycle is {x[0]} minutes {x[1]} seconds.\""
   ]
  },
  {
   "source": [
    "## Question 2\n",
    "### What’s the most common age of a bicycle-sharer?"
   ],
   "cell_type": "markdown",
   "metadata": {}
  },
  {
   "cell_type": "code",
   "execution_count": 23,
   "metadata": {},
   "outputs": [
    {
     "output_type": "execute_result",
     "data": {
      "text/plain": [
       "'The most common age of a bicycle-sharer is 34.'"
      ]
     },
     "metadata": {},
     "execution_count": 23
    }
   ],
   "source": [
    "f\"The most common age of a bicycle-sharer is {2021 - int(trips['birthyear'].mode())}.\""
   ]
  },
  {
   "cell_type": "code",
   "execution_count": null,
   "metadata": {},
   "outputs": [],
   "source": [
    "## Question 3\n",
    "### Given all the weather data here, find the average precipitation per month, and the median precipitation."
   ]
  },
  {
   "cell_type": "code",
   "execution_count": 74,
   "metadata": {},
   "outputs": [
    {
     "output_type": "execute_result",
     "data": {
      "text/plain": [
       "589    5/24/2016\n",
       "590    5/25/2016\n",
       "591    5/26/2016\n",
       "592    5/27/2016\n",
       "593    5/28/2016\n",
       "         ...    \n",
       "684    8/27/2016\n",
       "685    8/28/2016\n",
       "686    8/29/2016\n",
       "687    8/30/2016\n",
       "688    8/31/2016\n",
       "Name: Date, Length: 100, dtype: object"
      ]
     },
     "metadata": {},
     "execution_count": 74
    }
   ],
   "source": [
    "x = weather['Date'].tail(100)\n",
    "x"
   ]
  },
  {
   "source": [
    "## Question 4\n",
    "### What’s the average number of bikes at a given bike station?"
   ],
   "cell_type": "markdown",
   "metadata": {}
  },
  {
   "cell_type": "code",
   "execution_count": 76,
   "metadata": {},
   "outputs": [
    {
     "output_type": "execute_result",
     "data": {
      "text/plain": [
       "17"
      ]
     },
     "metadata": {},
     "execution_count": 76
    }
   ],
   "source": [
    "# round(station['current_dockcount'].mean())\n",
    "f\"The average number of bikes at a given bike station is {round(station['current_dockcount'].mean())}.\""
   ]
  },
  {
   "source": [
    "## Question 5\n",
    "### When a bike station is modified, is it more likely that it’ll lose bikes or gain bikes? How do you know?"
   ],
   "cell_type": "markdown",
   "metadata": {}
  },
  {
   "cell_type": "code",
   "execution_count": 73,
   "metadata": {},
   "outputs": [
    {
     "output_type": "execute_result",
     "data": {
      "text/plain": [
       "DatetimeIndex(['2015-11-09', '2015-11-10', '2015-11-11', '2015-11-12',\n",
       "               '2015-11-13', '2015-11-14', '2015-11-15', '2015-11-16',\n",
       "               '2015-11-17', '2015-11-18', '2015-11-19', '2015-11-20',\n",
       "               '2015-11-21', '2015-11-22', '2015-11-23', '2015-11-24',\n",
       "               '2015-11-25', '2015-11-26', '2015-11-27', '2015-11-28',\n",
       "               '2015-11-29', '2015-11-30', '2015-12-01', '2015-12-02',\n",
       "               '2015-12-03', '2015-12-04', '2015-12-05', '2015-12-06',\n",
       "               '2015-12-07', '2015-12-08', '2015-12-09', '2015-12-10',\n",
       "               '2015-12-11', '2015-12-12', '2015-12-13', '2015-12-14',\n",
       "               '2015-12-15', '2015-12-16', '2015-12-17', '2015-12-18',\n",
       "               '2015-12-19', '2015-12-20', '2015-12-21', '2015-12-22',\n",
       "               '2015-12-23', '2015-12-24', '2015-12-25', '2015-12-26',\n",
       "               '2015-12-27', '2015-12-28', '2015-12-29', '2015-12-30',\n",
       "               '2015-12-31', '2016-01-01', '2016-01-02', '2016-01-03',\n",
       "               '2016-01-04', '2016-01-05', '2016-01-06', '2016-01-07',\n",
       "               '2016-01-08', '2016-01-09', '2016-01-10', '2016-01-11',\n",
       "               '2016-01-12', '2016-01-13', '2016-01-14', '2016-01-15',\n",
       "               '2016-01-16', '2016-01-17', '2016-01-18', '2016-01-19',\n",
       "               '2016-01-20', '2016-01-21', '2016-01-22', '2016-01-23',\n",
       "               '2016-01-24', '2016-01-25', '2016-01-26', '2016-01-27',\n",
       "               '2016-01-28', '2016-01-29', '2016-01-30', '2016-01-31',\n",
       "               '2016-02-01', '2016-02-02', '2016-02-03', '2016-02-04',\n",
       "               '2016-02-05', '2016-02-06', '2016-02-07', '2016-02-08',\n",
       "               '2016-02-09', '2016-02-10', '2016-02-11', '2016-02-12',\n",
       "               '2016-02-13', '2016-02-14', '2016-02-15', '2016-02-16'],\n",
       "              dtype='datetime64[ns]', freq='D')"
      ]
     },
     "metadata": {},
     "execution_count": 73
    }
   ],
   "source": [
    "station['modification_date'] == '11/9/2015'\n",
    "x = pd.date_range('11/9/2015', periods=100)\n",
    "x"
   ]
  },
  {
   "cell_type": "code",
   "execution_count": null,
   "metadata": {},
   "outputs": [],
   "source": [
    "## Question 6a\n",
    "### When a bike station is modified, is it more likely that it’ll lose bikes or gain bikes? How do you know?"
   ]
  }
 ]
}