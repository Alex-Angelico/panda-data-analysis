{
 "metadata": {
  "language_info": {
   "codemirror_mode": {
    "name": "ipython",
    "version": 3
   },
   "file_extension": ".py",
   "mimetype": "text/x-python",
   "name": "python",
   "nbconvert_exporter": "python",
   "pygments_lexer": "ipython3",
   "version": "3.9.0-final"
  },
  "orig_nbformat": 2,
  "kernelspec": {
   "name": "python3",
   "display_name": "Python 3",
   "language": "python"
  }
 },
 "nbformat": 4,
 "nbformat_minor": 2,
 "cells": [
  {
   "source": [
    "# Data Analysis with Pandas\n",
    "\n",
    "## Dataset: Video Game Sales\n",
    "\n",
    "### Sales Data from More Than 16,500 Games\n",
    "\n",
    "#### Alex Angelico\n",
    "#### 2021-19-01"
   ],
   "cell_type": "markdown",
   "metadata": {}
  },
  {
   "cell_type": "code",
   "execution_count": 1,
   "metadata": {},
   "outputs": [],
   "source": [
    "import pandas as pd"
   ]
  },
  {
   "cell_type": "code",
   "execution_count": 2,
   "metadata": {},
   "outputs": [],
   "source": [
    "df = pd.read_csv('vgsales.csv')"
   ]
  },
  {
   "source": [
    "## Question 1\n",
    "### Which company is the most common video game publisher?"
   ],
   "cell_type": "markdown",
   "metadata": {}
  },
  {
   "cell_type": "code",
   "execution_count": 43,
   "metadata": {},
   "outputs": [
    {
     "output_type": "execute_result",
     "data": {
      "text/plain": [
       "'The most prolific video game publisher is Electronic Arts.'"
      ]
     },
     "metadata": {},
     "execution_count": 43
    }
   ],
   "source": [
    "most_common_publisher = df['Publisher'].mode().item()\n",
    "f\"The most prolific video game publisher is {most_common_publisher}.\"\n"
   ]
  },
  {
   "source": [
    "## Question 2\n",
    "### What’s the most common platform?"
   ],
   "cell_type": "markdown",
   "metadata": {}
  },
  {
   "cell_type": "code",
   "execution_count": 44,
   "metadata": {},
   "outputs": [
    {
     "output_type": "execute_result",
     "data": {
      "text/plain": [
       "'The most sold video game platform is DS.'"
      ]
     },
     "metadata": {},
     "execution_count": 44
    }
   ],
   "source": [
    "most_common_platform = df['Platform'].mode().item()\n",
    "f\"The most sold video game platform is {most_common_platform}.\""
   ]
  },
  {
   "source": [
    "## Question 3\n",
    "### What about the most common genre? "
   ],
   "cell_type": "markdown",
   "metadata": {}
  },
  {
   "cell_type": "code",
   "execution_count": 5,
   "metadata": {},
   "outputs": [
    {
     "output_type": "execute_result",
     "data": {
      "text/plain": [
       "'The most common video game genre is Action.'"
      ]
     },
     "metadata": {},
     "execution_count": 5
    }
   ],
   "source": [
    "most_common_genre = df['Genre'].mode().item()\n",
    "f\"The most common video game genre is {most_common_genre}.\""
   ]
  },
  {
   "source": [
    "## Question 4\n",
    "### What are the top 20 highest grossing games?"
   ],
   "cell_type": "markdown",
   "metadata": {}
  },
  {
   "cell_type": "code",
   "execution_count": 101,
   "metadata": {},
   "outputs": [
    {
     "output_type": "execute_result",
     "data": {
      "text/plain": [
       "                                              Name  Global_Sales\n",
       "Rank                                                            \n",
       "1                                       Wii Sports         82.74\n",
       "2                                Super Mario Bros.         40.24\n",
       "3                                   Mario Kart Wii         35.82\n",
       "4                                Wii Sports Resort         33.00\n",
       "5                         Pokemon Red/Pokemon Blue         31.37\n",
       "6                                           Tetris         30.26\n",
       "7                            New Super Mario Bros.         30.01\n",
       "8                                         Wii Play         29.02\n",
       "9                        New Super Mario Bros. Wii         28.62\n",
       "10                                       Duck Hunt         28.31\n",
       "11                                      Nintendogs         24.76\n",
       "12                                   Mario Kart DS         23.42\n",
       "13                     Pokemon Gold/Pokemon Silver         23.10\n",
       "14                                         Wii Fit         22.72\n",
       "15                                    Wii Fit Plus         22.00\n",
       "16                              Kinect Adventures!         21.82\n",
       "17                              Grand Theft Auto V         21.40\n",
       "18                   Grand Theft Auto: San Andreas         20.81\n",
       "19                               Super Mario World         20.61\n",
       "20    Brain Age: Train Your Brain in Minutes a Day         20.22"
      ],
      "text/html": "<div>\n<style scoped>\n    .dataframe tbody tr th:only-of-type {\n        vertical-align: middle;\n    }\n\n    .dataframe tbody tr th {\n        vertical-align: top;\n    }\n\n    .dataframe thead th {\n        text-align: right;\n    }\n</style>\n<table border=\"1\" class=\"dataframe\">\n  <thead>\n    <tr style=\"text-align: right;\">\n      <th></th>\n      <th>Name</th>\n      <th>Global_Sales</th>\n    </tr>\n    <tr>\n      <th>Rank</th>\n      <th></th>\n      <th></th>\n    </tr>\n  </thead>\n  <tbody>\n    <tr>\n      <th>1</th>\n      <td>Wii Sports</td>\n      <td>82.74</td>\n    </tr>\n    <tr>\n      <th>2</th>\n      <td>Super Mario Bros.</td>\n      <td>40.24</td>\n    </tr>\n    <tr>\n      <th>3</th>\n      <td>Mario Kart Wii</td>\n      <td>35.82</td>\n    </tr>\n    <tr>\n      <th>4</th>\n      <td>Wii Sports Resort</td>\n      <td>33.00</td>\n    </tr>\n    <tr>\n      <th>5</th>\n      <td>Pokemon Red/Pokemon Blue</td>\n      <td>31.37</td>\n    </tr>\n    <tr>\n      <th>6</th>\n      <td>Tetris</td>\n      <td>30.26</td>\n    </tr>\n    <tr>\n      <th>7</th>\n      <td>New Super Mario Bros.</td>\n      <td>30.01</td>\n    </tr>\n    <tr>\n      <th>8</th>\n      <td>Wii Play</td>\n      <td>29.02</td>\n    </tr>\n    <tr>\n      <th>9</th>\n      <td>New Super Mario Bros. Wii</td>\n      <td>28.62</td>\n    </tr>\n    <tr>\n      <th>10</th>\n      <td>Duck Hunt</td>\n      <td>28.31</td>\n    </tr>\n    <tr>\n      <th>11</th>\n      <td>Nintendogs</td>\n      <td>24.76</td>\n    </tr>\n    <tr>\n      <th>12</th>\n      <td>Mario Kart DS</td>\n      <td>23.42</td>\n    </tr>\n    <tr>\n      <th>13</th>\n      <td>Pokemon Gold/Pokemon Silver</td>\n      <td>23.10</td>\n    </tr>\n    <tr>\n      <th>14</th>\n      <td>Wii Fit</td>\n      <td>22.72</td>\n    </tr>\n    <tr>\n      <th>15</th>\n      <td>Wii Fit Plus</td>\n      <td>22.00</td>\n    </tr>\n    <tr>\n      <th>16</th>\n      <td>Kinect Adventures!</td>\n      <td>21.82</td>\n    </tr>\n    <tr>\n      <th>17</th>\n      <td>Grand Theft Auto V</td>\n      <td>21.40</td>\n    </tr>\n    <tr>\n      <th>18</th>\n      <td>Grand Theft Auto: San Andreas</td>\n      <td>20.81</td>\n    </tr>\n    <tr>\n      <th>19</th>\n      <td>Super Mario World</td>\n      <td>20.61</td>\n    </tr>\n    <tr>\n      <th>20</th>\n      <td>Brain Age: Train Your Brain in Minutes a Day</td>\n      <td>20.22</td>\n    </tr>\n  </tbody>\n</table>\n</div>"
     },
     "metadata": {},
     "execution_count": 101
    }
   ],
   "source": [
    "top_twenty_highest_grossing_games = df[['Rank','Name','Global_Sales']].head(20).set_index('Rank')\n",
    "top_twenty_highest_grossing_games"
   ]
  },
  {
   "source": [
    "## Question 5\n",
    "### For North American video game sales, what’s the median?\n",
    "#### What 10 games surround the game with the median value?"
   ],
   "cell_type": "markdown",
   "metadata": {}
  },
  {
   "cell_type": "code",
   "execution_count": 20,
   "metadata": {},
   "outputs": [
    {
     "output_type": "execute_result",
     "data": {
      "text/plain": [
       "                                        Name  NA_Sales\n",
       "11231                              1 vs. 100      0.08\n",
       "11308                101-in-1 Sports Megamix      0.08\n",
       "10158  18 Wheels of Steel: Extreme Trucker 2      0.08\n",
       "11193                   50 Cent: Bulletproof      0.08\n",
       "10000                         A Witch's Tale      0.08\n",
       "...                                      ...       ...\n",
       "10718             iCarly 2: iJoin The Click!      0.08\n",
       "9852                                  nail'd      0.08\n",
       "10625                                 nail'd      0.08\n",
       "7088               pro evolution soccer 2011      0.08\n",
       "7835            uDraw Studio: Instant Artist      0.08\n",
       "\n",
       "[459 rows x 2 columns]"
      ],
      "text/html": "<div>\n<style scoped>\n    .dataframe tbody tr th:only-of-type {\n        vertical-align: middle;\n    }\n\n    .dataframe tbody tr th {\n        vertical-align: top;\n    }\n\n    .dataframe thead th {\n        text-align: right;\n    }\n</style>\n<table border=\"1\" class=\"dataframe\">\n  <thead>\n    <tr style=\"text-align: right;\">\n      <th></th>\n      <th>Name</th>\n      <th>NA_Sales</th>\n    </tr>\n  </thead>\n  <tbody>\n    <tr>\n      <th>11231</th>\n      <td>1 vs. 100</td>\n      <td>0.08</td>\n    </tr>\n    <tr>\n      <th>11308</th>\n      <td>101-in-1 Sports Megamix</td>\n      <td>0.08</td>\n    </tr>\n    <tr>\n      <th>10158</th>\n      <td>18 Wheels of Steel: Extreme Trucker 2</td>\n      <td>0.08</td>\n    </tr>\n    <tr>\n      <th>11193</th>\n      <td>50 Cent: Bulletproof</td>\n      <td>0.08</td>\n    </tr>\n    <tr>\n      <th>10000</th>\n      <td>A Witch's Tale</td>\n      <td>0.08</td>\n    </tr>\n    <tr>\n      <th>...</th>\n      <td>...</td>\n      <td>...</td>\n    </tr>\n    <tr>\n      <th>10718</th>\n      <td>iCarly 2: iJoin The Click!</td>\n      <td>0.08</td>\n    </tr>\n    <tr>\n      <th>9852</th>\n      <td>nail'd</td>\n      <td>0.08</td>\n    </tr>\n    <tr>\n      <th>10625</th>\n      <td>nail'd</td>\n      <td>0.08</td>\n    </tr>\n    <tr>\n      <th>7088</th>\n      <td>pro evolution soccer 2011</td>\n      <td>0.08</td>\n    </tr>\n    <tr>\n      <th>7835</th>\n      <td>uDraw Studio: Instant Artist</td>\n      <td>0.08</td>\n    </tr>\n  </tbody>\n</table>\n<p>459 rows × 2 columns</p>\n</div>"
     },
     "metadata": {},
     "execution_count": 20
    }
   ],
   "source": [
    "na_median_sales = df['NA_Sales'].median()\n",
    "median = df['NA_Sales'].median()\n",
    "ten_median_na_seller_names = df[df['NA_Sales'] == median][['Name', 'NA_Sales']].sort_values(by='Name')"
   ]
  },
  {
   "cell_type": "code",
   "execution_count": 8,
   "metadata": {},
   "outputs": [
    {
     "output_type": "execute_result",
     "data": {
      "text/plain": [
       "                                                    Name  NA_Sales\n",
       "10975  Fighting Fantasy: The Warlock of Firetop Mountain      0.09\n",
       "10990                                     I Love Puppies      0.09\n",
       "10999                            Cake Mania: Main Street      0.09\n",
       "11003                                            DaGeDar      0.09\n",
       "11012                 NERF N-Strike: Double Blast Bundle      0.09"
      ],
      "text/html": "<div>\n<style scoped>\n    .dataframe tbody tr th:only-of-type {\n        vertical-align: middle;\n    }\n\n    .dataframe tbody tr th {\n        vertical-align: top;\n    }\n\n    .dataframe thead th {\n        text-align: right;\n    }\n</style>\n<table border=\"1\" class=\"dataframe\">\n  <thead>\n    <tr style=\"text-align: right;\">\n      <th></th>\n      <th>Name</th>\n      <th>NA_Sales</th>\n    </tr>\n  </thead>\n  <tbody>\n    <tr>\n      <th>10975</th>\n      <td>Fighting Fantasy: The Warlock of Firetop Mountain</td>\n      <td>0.09</td>\n    </tr>\n    <tr>\n      <th>10990</th>\n      <td>I Love Puppies</td>\n      <td>0.09</td>\n    </tr>\n    <tr>\n      <th>10999</th>\n      <td>Cake Mania: Main Street</td>\n      <td>0.09</td>\n    </tr>\n    <tr>\n      <th>11003</th>\n      <td>DaGeDar</td>\n      <td>0.09</td>\n    </tr>\n    <tr>\n      <th>11012</th>\n      <td>NERF N-Strike: Double Blast Bundle</td>\n      <td>0.09</td>\n    </tr>\n  </tbody>\n</table>\n</div>"
     },
     "metadata": {},
     "execution_count": 8
    }
   ],
   "source": [
    "df[df['NA_Sales'] > median][['Name', 'NA_Sales']].tail().sort_values('NA_Sales', ascending=True)"
   ]
  },
  {
   "cell_type": "code",
   "execution_count": 9,
   "metadata": {},
   "outputs": [
    {
     "output_type": "execute_result",
     "data": {
      "text/plain": [
       "                          Name  NA_Sales\n",
       "137          World of Warcraft      0.07\n",
       "348  Pro Evolution Soccer 2008      0.05\n",
       "214   Monster Hunter Freedom 3      0.00\n",
       "338          Friend Collection      0.00\n",
       "383           Monster Hunter 4      0.00"
      ],
      "text/html": "<div>\n<style scoped>\n    .dataframe tbody tr th:only-of-type {\n        vertical-align: middle;\n    }\n\n    .dataframe tbody tr th {\n        vertical-align: top;\n    }\n\n    .dataframe thead th {\n        text-align: right;\n    }\n</style>\n<table border=\"1\" class=\"dataframe\">\n  <thead>\n    <tr style=\"text-align: right;\">\n      <th></th>\n      <th>Name</th>\n      <th>NA_Sales</th>\n    </tr>\n  </thead>\n  <tbody>\n    <tr>\n      <th>137</th>\n      <td>World of Warcraft</td>\n      <td>0.07</td>\n    </tr>\n    <tr>\n      <th>348</th>\n      <td>Pro Evolution Soccer 2008</td>\n      <td>0.05</td>\n    </tr>\n    <tr>\n      <th>214</th>\n      <td>Monster Hunter Freedom 3</td>\n      <td>0.00</td>\n    </tr>\n    <tr>\n      <th>338</th>\n      <td>Friend Collection</td>\n      <td>0.00</td>\n    </tr>\n    <tr>\n      <th>383</th>\n      <td>Monster Hunter 4</td>\n      <td>0.00</td>\n    </tr>\n  </tbody>\n</table>\n</div>"
     },
     "metadata": {},
     "execution_count": 9
    }
   ],
   "source": [
    "df[df['NA_Sales'] < median][['Name', 'NA_Sales']].head().sort_values('NA_Sales', ascending=False)"
   ]
  },
  {
   "source": [
    "## Question 6\n",
    "### For the top-selling game of all time, how many standard deviations above/below the mean are its sales for North America?"
   ],
   "cell_type": "markdown",
   "metadata": {}
  },
  {
   "cell_type": "code",
   "execution_count": 52,
   "metadata": {},
   "outputs": [
    {
     "output_type": "execute_result",
     "data": {
      "text/plain": [
       "'The North American unit sales total of the top-selling game of all time, Wii Sports, is 50.48 standard deviations from the North American mean unit sales total.'"
      ]
     },
     "metadata": {},
     "execution_count": 52
    }
   ],
   "source": [
    "x = df[['Name','Global_Sales']].head(1).iloc\n",
    "y = df[df['Global_Sales'] == x[0][1]]['NA_Sales'].iloc\n",
    "\n",
    "top_game_sales_NA_devs = (y[0] - df['NA_Sales'].mean()) / df['NA_Sales'].std()\n",
    "\n",
    "f'The North American unit sales total of the top-selling game of all time, {x[0][0]}, is {round(top_game_sales_NA_devs, 2)} standard deviations from the North American mean unit sales total.'"
   ]
  },
  {
   "source": [
    "## Question 7\n",
    "### The Nintendo Wii seems to have outdone itself with games. How does its average number of sales compare with all of the other platforms?"
   ],
   "cell_type": "markdown",
   "metadata": {}
  },
  {
   "cell_type": "code",
   "execution_count": 11,
   "metadata": {},
   "outputs": [
    {
     "output_type": "execute_result",
     "data": {
      "text/plain": [
       "'Average game sales on Wii are 33.6% greater than the average of all other platforms. Average Wii game sales: 699404 units. Average sales on all other platforms: 523390 units.'"
      ]
     },
     "metadata": {},
     "execution_count": 11
    }
   ],
   "source": [
    "wii = df[df['Platform'] == 'Wii']['Global_Sales'].mean()\n",
    "others = df[df['Platform'] != 'Wii']['Global_Sales'].mean()\n",
    "percent = round((wii - others) / others * 100, 1)\n",
    "\n",
    "f'Average game sales on Wii are {percent}% greater than the average of all other platforms. Average Wii game sales: {round(wii*1000000)} units. Average sales on all other platforms: {round(others*1000000)} units.'"
   ]
  },
  {
   "source": [
    "## Question 8a\n",
    "### Which genre of game historically has the highest average sales?"
   ],
   "cell_type": "markdown",
   "metadata": {}
  },
  {
   "cell_type": "code",
   "execution_count": 129,
   "metadata": {},
   "outputs": [
    {
     "output_type": "execute_result",
     "data": {
      "text/plain": [
       "'The Platform genre historically has the highest average sales of 938341 units per game.'"
      ]
     },
     "metadata": {},
     "execution_count": 129
    }
   ],
   "source": [
    "ranked_genre_list = df.groupby('Genre')['Global_Sales'].mean().sort_values(ascending=False)\n",
    "genre = ranked_genre_list.index[0]\n",
    "average_sales = round(ranked_genre_list[0]*1000000)\n",
    "\n",
    "f'The {genre} genre historically has the highest average sales of {average_sales} units per game.'"
   ]
  },
  {
   "source": [
    "## Question 8b\n",
    "### Which year had the highest global sales of video games?"
   ],
   "cell_type": "markdown",
   "metadata": {}
  },
  {
   "cell_type": "code",
   "execution_count": 130,
   "metadata": {},
   "outputs": [
    {
     "output_type": "execute_result",
     "data": {
      "text/plain": [
       "'2008 had the highest global video game sales, totalling 678.9 million units.'"
      ]
     },
     "metadata": {},
     "execution_count": 130
    }
   ],
   "source": [
    "ranked_year_list = df.groupby('Year')['Global_Sales'].sum().sort_values(ascending=False)\n",
    "highest_year = int(ranked_year_list.index[0])\n",
    "global_sales = round(ranked_year_list.iloc[0], 1)\n",
    "\n",
    "f'{highest_year} had the highest global video game sales, totalling {global_sales} million units.'"
   ]
  },
  {
   "source": [
    "## Question 8c\n",
    "### How many Pokemon games are there?"
   ],
   "cell_type": "markdown",
   "metadata": {}
  },
  {
   "cell_type": "code",
   "execution_count": 151,
   "metadata": {},
   "outputs": [
    {
     "output_type": "execute_result",
     "data": {
      "text/plain": [
       "'There are 35 Pokemon games.'"
      ]
     },
     "metadata": {},
     "execution_count": 151
    }
   ],
   "source": [
    "pokemon_games = len([game for game in df['Name'].iloc if game.count('Pokemon') != 0])\n",
    "\n",
    "f'There are {pokemon_games} Pokemon games.'"
   ]
  },
  {
   "cell_type": "code",
   "execution_count": 152,
   "metadata": {},
   "outputs": [
    {
     "output_type": "stream",
     "name": "stdout",
     "text": [
      "Success!!!\n"
     ]
    }
   ],
   "source": [
    "def test():\n",
    "\n",
    "    def assert_equal(actual,expected):\n",
    "        assert actual == expected, f\"Expected {expected} but got {actual}\"\n",
    "\n",
    "    assert_equal(most_common_publisher, 'Electronic Arts')\n",
    "    assert_equal(most_common_platform, 'DS')\n",
    "    assert_equal(most_common_genre, 'Action')\n",
    "    assert_equal(top_twenty_highest_grossing_games.iloc[0].Name, 'Wii Sports')\n",
    "    assert_equal(top_twenty_highest_grossing_games.iloc[19].Name, 'Brain Age: Train Your Brain in Minutes a Day')\n",
    "    assert_equal(na_median_sales, 0.08)\n",
    "    assert_equal(ten_median_na_seller_names.iloc[0].Name, '1 vs. 100')\n",
    "    assert_equal(ranked_genre_list.index[0], 'Platform')\n",
    "    assert_equal(int(ranked_year_list.index[0]), 2008)\n",
    "    assert_equal(pokemon_games, 35)\n",
    "\n",
    "    print(\"Success!!!\")\n",
    "\n",
    "test()"
   ]
  },
  {
   "cell_type": "code",
   "execution_count": null,
   "metadata": {},
   "outputs": [],
   "source": []
  }
 ]
}