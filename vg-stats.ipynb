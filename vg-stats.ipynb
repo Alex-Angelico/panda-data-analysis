{
 "metadata": {
  "language_info": {
   "codemirror_mode": {
    "name": "ipython",
    "version": 3
   },
   "file_extension": ".py",
   "mimetype": "text/x-python",
   "name": "python",
   "nbconvert_exporter": "python",
   "pygments_lexer": "ipython3",
   "version": "3.9.0-final"
  },
  "orig_nbformat": 2,
  "kernelspec": {
   "name": "python3",
   "display_name": "Python 3",
   "language": "python"
  }
 },
 "nbformat": 4,
 "nbformat_minor": 2,
 "cells": [
  {
   "source": [
    "# Data Analysis with Pandas\n",
    "\n",
    "## Dataset: Video Game Sales\n",
    "\n",
    "### Sales Data from More Than 16,500 Games\n",
    "\n",
    "#### Alex Angelico\n",
    "#### 2021-19-01"
   ],
   "cell_type": "markdown",
   "metadata": {}
  },
  {
   "cell_type": "code",
   "execution_count": 61,
   "metadata": {},
   "outputs": [],
   "source": [
    "import pandas as pd\n",
    "import numpy as np"
   ]
  },
  {
   "cell_type": "code",
   "execution_count": 62,
   "metadata": {},
   "outputs": [],
   "source": [
    "df = pd.read_csv('vgsales.csv')"
   ]
  },
  {
   "source": [
    "## Questions 1, 2, 3\n",
    "### Which company is the most common video game publisher?\n",
    "### What’s the most common platform?\n",
    "### What about the most common genre?"
   ],
   "cell_type": "markdown",
   "metadata": {}
  },
  {
   "cell_type": "code",
   "execution_count": 65,
   "metadata": {},
   "outputs": [
    {
     "output_type": "execute_result",
     "data": {
      "text/plain": [
       "         Publisher Platform   Genre\n",
       "0  Electronic Arts       DS  Action"
      ],
      "text/html": "<div>\n<style scoped>\n    .dataframe tbody tr th:only-of-type {\n        vertical-align: middle;\n    }\n\n    .dataframe tbody tr th {\n        vertical-align: top;\n    }\n\n    .dataframe thead th {\n        text-align: right;\n    }\n</style>\n<table border=\"1\" class=\"dataframe\">\n  <thead>\n    <tr style=\"text-align: right;\">\n      <th></th>\n      <th>Publisher</th>\n      <th>Platform</th>\n      <th>Genre</th>\n    </tr>\n  </thead>\n  <tbody>\n    <tr>\n      <th>0</th>\n      <td>Electronic Arts</td>\n      <td>DS</td>\n      <td>Action</td>\n    </tr>\n  </tbody>\n</table>\n</div>"
     },
     "metadata": {},
     "execution_count": 65
    }
   ],
   "source": [
    "df[['Publisher', 'Platform', 'Genre']].mode()"
   ]
  },
  {
   "source": [
    "## Question 4\n",
    "### What are the top 20 highest grossing games?"
   ],
   "cell_type": "markdown",
   "metadata": {}
  },
  {
   "cell_type": "code",
   "execution_count": 66,
   "metadata": {},
   "outputs": [
    {
     "output_type": "execute_result",
     "data": {
      "text/plain": [
       "              Rank                                          Name Platform  \\\n",
       "Global_Sales                                                                \n",
       "82.74            1                                    Wii Sports      Wii   \n",
       "40.24            2                             Super Mario Bros.      NES   \n",
       "35.82            3                                Mario Kart Wii      Wii   \n",
       "33.00            4                             Wii Sports Resort      Wii   \n",
       "31.37            5                      Pokemon Red/Pokemon Blue       GB   \n",
       "30.26            6                                        Tetris       GB   \n",
       "30.01            7                         New Super Mario Bros.       DS   \n",
       "29.02            8                                      Wii Play      Wii   \n",
       "28.62            9                     New Super Mario Bros. Wii      Wii   \n",
       "28.31           10                                     Duck Hunt      NES   \n",
       "24.76           11                                    Nintendogs       DS   \n",
       "23.42           12                                 Mario Kart DS       DS   \n",
       "23.10           13                   Pokemon Gold/Pokemon Silver       GB   \n",
       "22.72           14                                       Wii Fit      Wii   \n",
       "22.00           15                                  Wii Fit Plus      Wii   \n",
       "21.82           16                            Kinect Adventures!     X360   \n",
       "21.40           17                            Grand Theft Auto V      PS3   \n",
       "20.81           18                 Grand Theft Auto: San Andreas      PS2   \n",
       "20.61           19                             Super Mario World     SNES   \n",
       "20.22           20  Brain Age: Train Your Brain in Minutes a Day       DS   \n",
       "\n",
       "                Year         Genre               Publisher  NA_Sales  \\\n",
       "Global_Sales                                                           \n",
       "82.74         2006.0        Sports                Nintendo     41.49   \n",
       "40.24         1985.0      Platform                Nintendo     29.08   \n",
       "35.82         2008.0        Racing                Nintendo     15.85   \n",
       "33.00         2009.0        Sports                Nintendo     15.75   \n",
       "31.37         1996.0  Role-Playing                Nintendo     11.27   \n",
       "30.26         1989.0        Puzzle                Nintendo     23.20   \n",
       "30.01         2006.0      Platform                Nintendo     11.38   \n",
       "29.02         2006.0          Misc                Nintendo     14.03   \n",
       "28.62         2009.0      Platform                Nintendo     14.59   \n",
       "28.31         1984.0       Shooter                Nintendo     26.93   \n",
       "24.76         2005.0    Simulation                Nintendo      9.07   \n",
       "23.42         2005.0        Racing                Nintendo      9.81   \n",
       "23.10         1999.0  Role-Playing                Nintendo      9.00   \n",
       "22.72         2007.0        Sports                Nintendo      8.94   \n",
       "22.00         2009.0        Sports                Nintendo      9.09   \n",
       "21.82         2010.0          Misc  Microsoft Game Studios     14.97   \n",
       "21.40         2013.0        Action    Take-Two Interactive      7.01   \n",
       "20.81         2004.0        Action    Take-Two Interactive      9.43   \n",
       "20.61         1990.0      Platform                Nintendo     12.78   \n",
       "20.22         2005.0          Misc                Nintendo      4.75   \n",
       "\n",
       "              EU_Sales  JP_Sales  Other_Sales  \n",
       "Global_Sales                                   \n",
       "82.74            29.02      3.77         8.46  \n",
       "40.24             3.58      6.81         0.77  \n",
       "35.82            12.88      3.79         3.31  \n",
       "33.00            11.01      3.28         2.96  \n",
       "31.37             8.89     10.22         1.00  \n",
       "30.26             2.26      4.22         0.58  \n",
       "30.01             9.23      6.50         2.90  \n",
       "29.02             9.20      2.93         2.85  \n",
       "28.62             7.06      4.70         2.26  \n",
       "28.31             0.63      0.28         0.47  \n",
       "24.76            11.00      1.93         2.75  \n",
       "23.42             7.57      4.13         1.92  \n",
       "23.10             6.18      7.20         0.71  \n",
       "22.72             8.03      3.60         2.15  \n",
       "22.00             8.59      2.53         1.79  \n",
       "21.82             4.94      0.24         1.67  \n",
       "21.40             9.27      0.97         4.14  \n",
       "20.81             0.40      0.41        10.57  \n",
       "20.61             3.75      3.54         0.55  \n",
       "20.22             9.26      4.16         2.05  "
      ],
      "text/html": "<div>\n<style scoped>\n    .dataframe tbody tr th:only-of-type {\n        vertical-align: middle;\n    }\n\n    .dataframe tbody tr th {\n        vertical-align: top;\n    }\n\n    .dataframe thead th {\n        text-align: right;\n    }\n</style>\n<table border=\"1\" class=\"dataframe\">\n  <thead>\n    <tr style=\"text-align: right;\">\n      <th></th>\n      <th>Rank</th>\n      <th>Name</th>\n      <th>Platform</th>\n      <th>Year</th>\n      <th>Genre</th>\n      <th>Publisher</th>\n      <th>NA_Sales</th>\n      <th>EU_Sales</th>\n      <th>JP_Sales</th>\n      <th>Other_Sales</th>\n    </tr>\n    <tr>\n      <th>Global_Sales</th>\n      <th></th>\n      <th></th>\n      <th></th>\n      <th></th>\n      <th></th>\n      <th></th>\n      <th></th>\n      <th></th>\n      <th></th>\n      <th></th>\n    </tr>\n  </thead>\n  <tbody>\n    <tr>\n      <th>82.74</th>\n      <td>1</td>\n      <td>Wii Sports</td>\n      <td>Wii</td>\n      <td>2006.0</td>\n      <td>Sports</td>\n      <td>Nintendo</td>\n      <td>41.49</td>\n      <td>29.02</td>\n      <td>3.77</td>\n      <td>8.46</td>\n    </tr>\n    <tr>\n      <th>40.24</th>\n      <td>2</td>\n      <td>Super Mario Bros.</td>\n      <td>NES</td>\n      <td>1985.0</td>\n      <td>Platform</td>\n      <td>Nintendo</td>\n      <td>29.08</td>\n      <td>3.58</td>\n      <td>6.81</td>\n      <td>0.77</td>\n    </tr>\n    <tr>\n      <th>35.82</th>\n      <td>3</td>\n      <td>Mario Kart Wii</td>\n      <td>Wii</td>\n      <td>2008.0</td>\n      <td>Racing</td>\n      <td>Nintendo</td>\n      <td>15.85</td>\n      <td>12.88</td>\n      <td>3.79</td>\n      <td>3.31</td>\n    </tr>\n    <tr>\n      <th>33.00</th>\n      <td>4</td>\n      <td>Wii Sports Resort</td>\n      <td>Wii</td>\n      <td>2009.0</td>\n      <td>Sports</td>\n      <td>Nintendo</td>\n      <td>15.75</td>\n      <td>11.01</td>\n      <td>3.28</td>\n      <td>2.96</td>\n    </tr>\n    <tr>\n      <th>31.37</th>\n      <td>5</td>\n      <td>Pokemon Red/Pokemon Blue</td>\n      <td>GB</td>\n      <td>1996.0</td>\n      <td>Role-Playing</td>\n      <td>Nintendo</td>\n      <td>11.27</td>\n      <td>8.89</td>\n      <td>10.22</td>\n      <td>1.00</td>\n    </tr>\n    <tr>\n      <th>30.26</th>\n      <td>6</td>\n      <td>Tetris</td>\n      <td>GB</td>\n      <td>1989.0</td>\n      <td>Puzzle</td>\n      <td>Nintendo</td>\n      <td>23.20</td>\n      <td>2.26</td>\n      <td>4.22</td>\n      <td>0.58</td>\n    </tr>\n    <tr>\n      <th>30.01</th>\n      <td>7</td>\n      <td>New Super Mario Bros.</td>\n      <td>DS</td>\n      <td>2006.0</td>\n      <td>Platform</td>\n      <td>Nintendo</td>\n      <td>11.38</td>\n      <td>9.23</td>\n      <td>6.50</td>\n      <td>2.90</td>\n    </tr>\n    <tr>\n      <th>29.02</th>\n      <td>8</td>\n      <td>Wii Play</td>\n      <td>Wii</td>\n      <td>2006.0</td>\n      <td>Misc</td>\n      <td>Nintendo</td>\n      <td>14.03</td>\n      <td>9.20</td>\n      <td>2.93</td>\n      <td>2.85</td>\n    </tr>\n    <tr>\n      <th>28.62</th>\n      <td>9</td>\n      <td>New Super Mario Bros. Wii</td>\n      <td>Wii</td>\n      <td>2009.0</td>\n      <td>Platform</td>\n      <td>Nintendo</td>\n      <td>14.59</td>\n      <td>7.06</td>\n      <td>4.70</td>\n      <td>2.26</td>\n    </tr>\n    <tr>\n      <th>28.31</th>\n      <td>10</td>\n      <td>Duck Hunt</td>\n      <td>NES</td>\n      <td>1984.0</td>\n      <td>Shooter</td>\n      <td>Nintendo</td>\n      <td>26.93</td>\n      <td>0.63</td>\n      <td>0.28</td>\n      <td>0.47</td>\n    </tr>\n    <tr>\n      <th>24.76</th>\n      <td>11</td>\n      <td>Nintendogs</td>\n      <td>DS</td>\n      <td>2005.0</td>\n      <td>Simulation</td>\n      <td>Nintendo</td>\n      <td>9.07</td>\n      <td>11.00</td>\n      <td>1.93</td>\n      <td>2.75</td>\n    </tr>\n    <tr>\n      <th>23.42</th>\n      <td>12</td>\n      <td>Mario Kart DS</td>\n      <td>DS</td>\n      <td>2005.0</td>\n      <td>Racing</td>\n      <td>Nintendo</td>\n      <td>9.81</td>\n      <td>7.57</td>\n      <td>4.13</td>\n      <td>1.92</td>\n    </tr>\n    <tr>\n      <th>23.10</th>\n      <td>13</td>\n      <td>Pokemon Gold/Pokemon Silver</td>\n      <td>GB</td>\n      <td>1999.0</td>\n      <td>Role-Playing</td>\n      <td>Nintendo</td>\n      <td>9.00</td>\n      <td>6.18</td>\n      <td>7.20</td>\n      <td>0.71</td>\n    </tr>\n    <tr>\n      <th>22.72</th>\n      <td>14</td>\n      <td>Wii Fit</td>\n      <td>Wii</td>\n      <td>2007.0</td>\n      <td>Sports</td>\n      <td>Nintendo</td>\n      <td>8.94</td>\n      <td>8.03</td>\n      <td>3.60</td>\n      <td>2.15</td>\n    </tr>\n    <tr>\n      <th>22.00</th>\n      <td>15</td>\n      <td>Wii Fit Plus</td>\n      <td>Wii</td>\n      <td>2009.0</td>\n      <td>Sports</td>\n      <td>Nintendo</td>\n      <td>9.09</td>\n      <td>8.59</td>\n      <td>2.53</td>\n      <td>1.79</td>\n    </tr>\n    <tr>\n      <th>21.82</th>\n      <td>16</td>\n      <td>Kinect Adventures!</td>\n      <td>X360</td>\n      <td>2010.0</td>\n      <td>Misc</td>\n      <td>Microsoft Game Studios</td>\n      <td>14.97</td>\n      <td>4.94</td>\n      <td>0.24</td>\n      <td>1.67</td>\n    </tr>\n    <tr>\n      <th>21.40</th>\n      <td>17</td>\n      <td>Grand Theft Auto V</td>\n      <td>PS3</td>\n      <td>2013.0</td>\n      <td>Action</td>\n      <td>Take-Two Interactive</td>\n      <td>7.01</td>\n      <td>9.27</td>\n      <td>0.97</td>\n      <td>4.14</td>\n    </tr>\n    <tr>\n      <th>20.81</th>\n      <td>18</td>\n      <td>Grand Theft Auto: San Andreas</td>\n      <td>PS2</td>\n      <td>2004.0</td>\n      <td>Action</td>\n      <td>Take-Two Interactive</td>\n      <td>9.43</td>\n      <td>0.40</td>\n      <td>0.41</td>\n      <td>10.57</td>\n    </tr>\n    <tr>\n      <th>20.61</th>\n      <td>19</td>\n      <td>Super Mario World</td>\n      <td>SNES</td>\n      <td>1990.0</td>\n      <td>Platform</td>\n      <td>Nintendo</td>\n      <td>12.78</td>\n      <td>3.75</td>\n      <td>3.54</td>\n      <td>0.55</td>\n    </tr>\n    <tr>\n      <th>20.22</th>\n      <td>20</td>\n      <td>Brain Age: Train Your Brain in Minutes a Day</td>\n      <td>DS</td>\n      <td>2005.0</td>\n      <td>Misc</td>\n      <td>Nintendo</td>\n      <td>4.75</td>\n      <td>9.26</td>\n      <td>4.16</td>\n      <td>2.05</td>\n    </tr>\n  </tbody>\n</table>\n</div>"
     },
     "metadata": {},
     "execution_count": 66
    }
   ],
   "source": [
    "df.set_index('Global_Sales').head(20)"
   ]
  },
  {
   "source": [
    "## Question 5\n",
    "### For North American video game sales, what’s the median?\n",
    "#### What 10 games surround the game with the median value?"
   ],
   "cell_type": "markdown",
   "metadata": {}
  },
  {
   "cell_type": "code",
   "execution_count": 80,
   "metadata": {},
   "outputs": [
    {
     "output_type": "execute_result",
     "data": {
      "text/plain": [
       "0.08"
      ]
     },
     "metadata": {},
     "execution_count": 80
    }
   ],
   "source": [
    "df['NA_Sales'].median()"
   ]
  },
  {
   "source": [
    "## Question 6\n",
    "### For the top-selling game of all time, how many standard deviations above/below the mean are its sales for North America?"
   ],
   "cell_type": "markdown",
   "metadata": {}
  },
  {
   "cell_type": "code",
   "execution_count": 42,
   "metadata": {},
   "outputs": [
    {
     "output_type": "execute_result",
     "data": {
      "text/plain": [
       "0    82.74\n",
       "1    40.24\n",
       "2    35.82\n",
       "3    33.00\n",
       "4    31.37\n",
       "Name: Global_Sales, dtype: float64"
      ]
     },
     "metadata": {},
     "execution_count": 42
    }
   ],
   "source": [
    "df['Global_Sales'].head()\n",
    "df['Global_Sales'].std()"
   ]
  },
  {
   "source": [
    "## Question 7\n",
    "### The Nintendo Wii seems to have outdone itself with games. How does its average number of sales compare with all of the other platforms?"
   ],
   "cell_type": "markdown",
   "metadata": {}
  },
  {
   "cell_type": "code",
   "execution_count": null,
   "metadata": {},
   "outputs": [],
   "source": []
  },
  {
   "source": [
    "## Question 8a\n",
    "### Which genre of game historically has the highest average sales?"
   ],
   "cell_type": "markdown",
   "metadata": {}
  },
  {
   "cell_type": "code",
   "execution_count": 84,
   "metadata": {},
   "outputs": [
    {
     "output_type": "execute_result",
     "data": {
      "text/plain": [
       "Global_Sales    0.537441\n",
       "dtype: float64"
      ]
     },
     "metadata": {},
     "execution_count": 84
    }
   ],
   "source": [
    "# Genre with highest average sales\n",
    "\n",
    "# df['Genre'].mean('Global_Sales')\n",
    "# df['Global_Sales'].mean().sort_values('Genre')\n",
    "# df['Genre'].mean().sort_values('Global_Sales')\n",
    "df[['Genre','Global_Sales']].mean()\n",
    "\n",
    "\n",
    "\n"
   ]
  },
  {
   "source": [
    "## Question 8b\n",
    "### Which year had the highest global sales of video games?"
   ],
   "cell_type": "markdown",
   "metadata": {}
  },
  {
   "cell_type": "code",
   "execution_count": 81,
   "metadata": {},
   "outputs": [
    {
     "output_type": "execute_result",
     "data": {
      "text/plain": [
       "0        82.74\n",
       "6        30.01\n",
       "7        29.02\n",
       "20       18.36\n",
       "100       7.31\n",
       "         ...  \n",
       "16513     0.01\n",
       "16520     0.01\n",
       "16523     0.01\n",
       "16547     0.01\n",
       "16568     0.01\n",
       "Name: Global_Sales, Length: 1008, dtype: float64"
      ]
     },
     "metadata": {},
     "execution_count": 81
    }
   ],
   "source": [
    "# Year with highest global sales\n",
    "\n",
    "# df['Global_Sales'].set_index('Year')\n",
    "# df.sort_values(by='Global_Sales', ascending='False')\n",
    "# sales_year = df[['Year', 'Global_Sales']]\n",
    "# total_sales = np.sum(sales_year)\n",
    "# total_sales\n",
    "\n",
    "# df[df['Year'] == 2006].sort_values('Global_Sales')\n",
    "x = df[df['Year'] == 2006]['Global_Sales']\n",
    "x\n",
    "# total = np.sum(x)\n",
    "# total"
   ]
  },
  {
   "cell_type": "code",
   "execution_count": null,
   "metadata": {},
   "outputs": [],
   "source": []
  }
 ]
}